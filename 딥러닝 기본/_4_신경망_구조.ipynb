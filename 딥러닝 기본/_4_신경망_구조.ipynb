{
  "nbformat": 4,
  "nbformat_minor": 0,
  "metadata": {
    "colab": {
      "name": "_4 신경망 구조",
      "provenance": [],
      "collapsed_sections": [],
      "include_colab_link": true
    },
    "kernelspec": {
      "name": "python3",
      "display_name": "Python 3"
    }
  },
  "cells": [
    {
      "cell_type": "markdown",
      "metadata": {
        "id": "view-in-github",
        "colab_type": "text"
      },
      "source": [
        "<a href=\"https://colab.research.google.com/github/helookscool/DEEP_Learning_Machine_129/blob/main/%EB%94%A5%EB%9F%AC%EB%8B%9D%20%EA%B8%B0%EB%B3%B8/_4_%EC%8B%A0%EA%B2%BD%EB%A7%9D_%EA%B5%AC%EC%A1%B0.ipynb\" target=\"_parent\"><img src=\"https://colab.research.google.com/assets/colab-badge.svg\" alt=\"Open In Colab\"/></a>"
      ]
    },
    {
      "cell_type": "markdown",
      "metadata": {
        "id": "SSVzmRVLJrwm"
      },
      "source": [
        "# 신경망 구조"
      ]
    },
    {
      "cell_type": "markdown",
      "metadata": {
        "id": "0F8W4x9kembv"
      },
      "source": [
        "## 퍼셉트론\n",
        "\n",
        "- 인공신경망의 한 종류\n",
        "- 다수의 입력($x_1, x_2, ..., x_n$)과 가중치($w_1, w_2, ..., w_n$)를 곱하여 그 값에 편향($bias$)을 더한 값이 어느 임계치 값($\\theta$)을 초과하면 활성화 함수를 통과한 출력값을 내보냄\n",
        "![perceptron](https://miro.medium.com/max/1400/1*ofVdu6L3BDbHyt1Ro8w07Q.png)\n",
        "<br /><sub>출처: https://towardsdatascience.com/rosenblatts-perceptron-the-very-first-neural-network-37a3ec09038a</sub>"
      ]
    },
    {
      "cell_type": "markdown",
      "metadata": {
        "id": "YxALA-qreoJ-"
      },
      "source": [
        "## 뉴런의 수학적 표현\n",
        "\n",
        "![](https://cs231n.github.io/assets/nn1/neuron_model.jpeg)\n",
        "<br /><sub>출처: https://cs231n.github.io/convolutional-networks/</sub>\n",
        "\n",
        "$\\qquad y = f(\\sum_{i} w_ix_i + b) \\quad $\n",
        "\n",
        "  - $f\\ $ : 활성화 함수\n",
        "    - 임계값($\\theta$)을 경계로 출력이 바뀜\n",
        "\n",
        "  - $b\\ \\ $ :  편향\n",
        "    - <u>결정 경계선을 원점에서부터 벗어나게 해줌</u>\n",
        "    - 따로 표현이 없어도 기본적으로 존재한다고 생각\n",
        "\n",
        "  - $\\sum_{i} w_ix_i$ :$\\quad $두 벡터의 내적으로 표현 가능\n",
        "     \n",
        "     $\\\\ \\quad x_1w_1 + x_2w_2 +\\ ... \\ + x_nw_n = w^Tx$"
      ]
    },
    {
      "cell_type": "markdown",
      "metadata": {
        "id": "sl6DMX9Yetsv"
      },
      "source": [
        "\n",
        "## 완전 연결 계층(Fully-Connected Layer) 수학적 표현\n",
        "\n",
        "![](https://miro.medium.com/max/620/1*ZBYO3waYUyPsLm0rb15sEQ.png)\n",
        "<br /><sub>출처: https://towardsdatascience.com/the-sparse-future-of-deep-learning-bce05e8e094a</sub>\n",
        "\n",
        "  $\\qquad  W = [w_0, w_1,\\ ..., \\ w_{M-1}]^T $  \n",
        "  $\\qquad $  각각의 $w_k$는 $N\\times 1$ 형태의 벡터  \n",
        "  $\\qquad W$는 $N \\times M$ 행렬\n",
        "\n",
        "  $ \\qquad b$ = $[b_0, b_1, \\ ..., \\ b_{M-1}]$  \n",
        "\n",
        "  $\\qquad y_0 = f(w_0^Tx + b_0)$  \n",
        "\n",
        "  $\\qquad y_1 = f(w_1^Tx + b_1)$  \n",
        "\n",
        "  $\\qquad y_2 = f(w_2^Tx + b_2)$  \n",
        "  \n",
        "  $\\qquad \\quad ...$\n",
        "\n",
        "  $\\qquad y_{M-1} = f(w_{M-1}^Tx + b_{M-1})$  \n",
        "\n",
        "  $\\quad  \\rightarrow y = f(Wx + b)$"
      ]
    },
    {
      "cell_type": "markdown",
      "metadata": {
        "id": "iH7jWsHRewUi"
      },
      "source": [
        "## 논리회로\n",
        "  * 논리 게이트(Logic Gates)\n",
        "    - AND\n",
        "    - OR\n",
        "    - NOT\n",
        "    - NAND\n",
        "    - NOR  \n",
        "\n",
        "* 다이어그램과 진리표\n",
        "\n",
        "![](http://www.schoolphysics.co.uk/age14-16/Electronics/text/Logic_gates/images/1.png)\n",
        "<br /><sub>출처: http://www.schoolphysics.co.uk/age14-16/Electronics/text/Logic_gates/index.html</sub>"
      ]
    },
    {
      "cell_type": "markdown",
      "metadata": {
        "id": "o3pY4J8MezBm"
      },
      "source": [
        "### AND 게이트\n",
        "\n",
        "- 두 입력이 모두 1일 때 1을 출력하는 논리회로   \n",
        "\n",
        "![](https://www.tutorialspoint.com/computer_logical_organization/images/and_logic.jpg)\n",
        "\n",
        "- 진리표\n",
        "\n",
        "![](https://www.tutorialspoint.com/computer_logical_organization/images/and_truthtable.jpg)\n",
        "<br /><sub>출처: https://www.tutorialspoint.com/computer_logical_organization/logic_gates.htm</sub>\n",
        "\n",
        "- AND 게이트를 만족시키는 가중치와 편향 구하기\n"
      ]
    },
    {
      "cell_type": "code",
      "metadata": {
        "id": "Ml6u-oCzenlh"
      },
      "source": [
        "import numpy as np\n",
        "import matplotlib.pyplot as plt\n",
        "plt.style.use(['seaborn-whitegrid'])"
      ],
      "execution_count": 1,
      "outputs": []
    },
    {
      "cell_type": "code",
      "metadata": {
        "id": "IQHe-5E2e2UJ"
      },
      "source": [
        "def AND(a,b):\n",
        "  input = np.array([a,b])\n",
        "  weights = np.array([0.4, 0.4])\n",
        "  bias = -0.6\n",
        "  value = np.sum(input * weights) + bias\n",
        "\n",
        "  if value <= 0:\n",
        "    return 0\n",
        "  else:\n",
        "    return 1"
      ],
      "execution_count": 2,
      "outputs": []
    },
    {
      "cell_type": "code",
      "metadata": {
        "id": "gObrhki8e4hk",
        "colab": {
          "base_uri": "https://localhost:8080/"
        },
        "outputId": "5b91be45-a848-4d47-db7a-dab652a3af8a"
      },
      "source": [
        "print(AND(0,0))\n",
        "print(AND(0,1))\n",
        "print(AND(1,0))\n",
        "print(AND(1,1))"
      ],
      "execution_count": 3,
      "outputs": [
        {
          "output_type": "stream",
          "name": "stdout",
          "text": [
            "0\n",
            "0\n",
            "0\n",
            "1\n"
          ]
        }
      ]
    },
    {
      "cell_type": "code",
      "metadata": {
        "id": "uDPqdCl1e6fV",
        "colab": {
          "base_uri": "https://localhost:8080/",
          "height": 284
        },
        "outputId": "c71bf607-17a4-4501-8b8a-a446400e2b37"
      },
      "source": [
        "x1 = np.arange(-2, 2, 0.01)\n",
        "x2 = np.arange(-2, 2, 0.01)\n",
        "bias = -0.6\n",
        "\n",
        "y = (-0.4 * x1 - bias) / 0.4\n",
        "\n",
        "plt.axvline(x=0)\n",
        "plt.axhline(y=0)\n",
        "\n",
        "plt.plot(x1, y, 'r--')\n",
        "plt.scatter(0, 0, color='orange', marker='o', s=150)\n",
        "plt.scatter(0, 1, color='orange', marker='o', s=150)\n",
        "plt.scatter(1, 0, color='orange', marker='o', s=150)\n",
        "plt.scatter(1, 1, color='black', marker='^', s=150)\n",
        "plt.xlim(-0.5, 1.5)\n",
        "plt.ylim(-0.5, 1.5)\n",
        "plt.grid\n",
        "plt.show"
      ],
      "execution_count": 4,
      "outputs": [
        {
          "output_type": "execute_result",
          "data": {
            "text/plain": [
              "<function matplotlib.pyplot.show>"
            ]
          },
          "metadata": {},
          "execution_count": 4
        },
        {
          "output_type": "display_data",
          "data": {
            "image/png": "[encoded data removed]",
            "text/plain": [
              "<Figure size 432x288 with 1 Axes>"
            ]
          },
          "metadata": {
            "needs_background": "light"
          }
        }
      ]
    },
    {
      "cell_type": "markdown",
      "metadata": {
        "id": "_Gz29P-ve-jD"
      },
      "source": [
        "### OR 게이트\n",
        "\n",
        "- 두 입력 중 하나라도 1이면 1을 출력하는 논리회로  \n",
        "  \n",
        "![](https://www.tutorialspoint.com/computer_logical_organization/images/or_logic.jpg)\n",
        "\n",
        "- 진리표  \n",
        "\n",
        "![](https://www.tutorialspoint.com/computer_logical_organization/images/or_truthtable.jpg)\n",
        "<br /><sub>출처: https://www.tutorialspoint.com/computer_logical_organization/logic_gates.htm</sub>\n",
        "\n",
        "- OR 게이트를 만족시키는 가중치와 편향 구하기\n"
      ]
    },
    {
      "cell_type": "code",
      "metadata": {
        "id": "8mSvmfXve8JR"
      },
      "source": [
        "def OR(a,b):\n",
        "  input = np.array([a,b])\n",
        "  weights = np.array([0.4, 0.4])\n",
        "  bias = -0.3\n",
        "  value = np.sum(input * weights) + bias\n",
        "\n",
        "  if value <= 0:\n",
        "    return 0\n",
        "  else:\n",
        "    return 1"
      ],
      "execution_count": 5,
      "outputs": []
    },
    {
      "cell_type": "code",
      "metadata": {
        "id": "8Xc_nF6lfNH3",
        "colab": {
          "base_uri": "https://localhost:8080/"
        },
        "outputId": "3759566f-3230-426c-a3c8-4a2fac8f5735"
      },
      "source": [
        "print(OR(0,0))\n",
        "print(OR(0,1))\n",
        "print(OR(1,0))\n",
        "print(OR(1,1))"
      ],
      "execution_count": 6,
      "outputs": [
        {
          "output_type": "stream",
          "name": "stdout",
          "text": [
            "0\n",
            "1\n",
            "1\n",
            "1\n"
          ]
        }
      ]
    },
    {
      "cell_type": "code",
      "metadata": {
        "id": "pR9RrNj4fOez",
        "colab": {
          "base_uri": "https://localhost:8080/",
          "height": 284
        },
        "outputId": "063dbc0f-e987-4c32-9250-7499a043b9b1"
      },
      "source": [
        "x1 = np.arange(-2, 2, 0.01)\n",
        "x2 = np.arange(-2, 2, 0.01)\n",
        "bias = -0.3\n",
        "\n",
        "y = (-0.4 * x1 - bias) / 0.4\n",
        "\n",
        "plt.axvline(x=0)\n",
        "plt.axhline(y=0)\n",
        "\n",
        "plt.plot(x1, y, 'r--')\n",
        "plt.scatter(0, 0, color='black', marker='^', s=150)\n",
        "plt.scatter(0, 1, color='orange', marker='o', s=150)\n",
        "plt.scatter(1, 0, color='orange', marker='o', s=150)\n",
        "plt.scatter(1, 1, color='orange', marker='o', s=150)\n",
        "plt.xlim(-0.5, 1.5)\n",
        "plt.ylim(-0.5, 1.5)\n",
        "plt.grid\n",
        "plt.show"
      ],
      "execution_count": 7,
      "outputs": [
        {
          "output_type": "execute_result",
          "data": {
            "text/plain": [
              "<function matplotlib.pyplot.show>"
            ]
          },
          "metadata": {},
          "execution_count": 7
        },
        {
          "output_type": "display_data",
          "data": {
            "image/png": "[encoded data removed]",
            "text/plain": [
              "<Figure size 432x288 with 1 Axes>"
            ]
          },
          "metadata": {
            "needs_background": "light"
          }
        }
      ]
    },
    {
      "cell_type": "markdown",
      "metadata": {
        "id": "G3anpbTsfR7A"
      },
      "source": [
        "### NAND 게이트\n",
        "\n",
        "\n",
        "- 두 입력이 모두 1일 때 0을 출력하는 논리회로\n",
        "\n",
        "![](https://www.tutorialspoint.com/computer_logical_organization/images/nand_logic.jpg)\n",
        "\n",
        "- 진리표  \n",
        "\n",
        "![](https://www.tutorialspoint.com/computer_logical_organization/images/nand_truthtable.jpg)\n",
        "<br /><sub>출처: https://www.tutorialspoint.com/computer_logical_organization/logic_gates.htm</sub>\n",
        "\n",
        "- NAND 게이트를 만족시키는 가중치와 편향 구하기\n",
        "\n"
      ]
    },
    {
      "cell_type": "code",
      "metadata": {
        "id": "pJP5BLDGfP4-"
      },
      "source": [
        "def NAND(a,b):\n",
        "  input = np.array([a,b])\n",
        "  weights = np.array([-0.6, -0.5])\n",
        "  bias = 0.7\n",
        "  value = np.sum(input * weights) + bias\n",
        "\n",
        "  if value <= 0:\n",
        "    return 0\n",
        "  else:\n",
        "    return 1"
      ],
      "execution_count": 8,
      "outputs": []
    },
    {
      "cell_type": "code",
      "metadata": {
        "id": "juB8y1zIfY7z",
        "colab": {
          "base_uri": "https://localhost:8080/"
        },
        "outputId": "f7bd833e-9688-4c7d-dc43-f7c2686be932"
      },
      "source": [
        "print(NAND(0,0))\n",
        "print(NAND(0,1))\n",
        "print(NAND(1,0))\n",
        "print(NAND(1,1))"
      ],
      "execution_count": 9,
      "outputs": [
        {
          "output_type": "stream",
          "name": "stdout",
          "text": [
            "1\n",
            "1\n",
            "1\n",
            "0\n"
          ]
        }
      ]
    },
    {
      "cell_type": "code",
      "metadata": {
        "id": "G6WDqUWefaeX",
        "colab": {
          "base_uri": "https://localhost:8080/",
          "height": 284
        },
        "outputId": "fdb81ddf-225f-452f-ed15-2e471aa9de32"
      },
      "source": [
        "x1 = np.arange(-2, 2, 0.01)\n",
        "x2 = np.arange(-2, 2, 0.01)\n",
        "bias = 0.7\n",
        "\n",
        "y = (0.6 * x1 - bias) / -0.5\n",
        "\n",
        "plt.axvline(x=0)\n",
        "plt.axhline(y=0)\n",
        "\n",
        "plt.plot(x1, y, 'r--')\n",
        "plt.scatter(0, 0, color='black', marker='o', s=150)\n",
        "plt.scatter(0, 1, color='black', marker='o', s=150)\n",
        "plt.scatter(1, 0, color='black', marker='o', s=150)\n",
        "plt.scatter(1, 1, color='orange', marker='^', s=150)\n",
        "plt.xlim(-0.5, 1.5)\n",
        "plt.ylim(-0.5, 1.5)\n",
        "plt.grid\n",
        "plt.show"
      ],
      "execution_count": 10,
      "outputs": [
        {
          "output_type": "execute_result",
          "data": {
            "text/plain": [
              "<function matplotlib.pyplot.show>"
            ]
          },
          "metadata": {},
          "execution_count": 10
        },
        {
          "output_type": "display_data",
          "data": {
            "image/png": "[encoded data removed]",
            "text/plain": [
              "<Figure size 432x288 with 1 Axes>"
            ]
          },
          "metadata": {
            "needs_background": "light"
          }
        }
      ]
    },
    {
      "cell_type": "markdown",
      "metadata": {
        "id": "ZWVJN3iTfenX"
      },
      "source": [
        "### XOR 게이트\n",
        "\n",
        "- 인공지능 첫번째 겨울\n",
        "- 딥러닝의 첫번째 위기를 초래\n",
        "  - 마빈 민스키와 세이무어 페퍼트에 의해 문제 제기\n",
        "  - AND, NAND와 같은 선형문제는 퍼셉트론으로 해결 가능, 하지만 XOR은 어떻게? 직선(선형) 하나로는 불가능!\n",
        "\n",
        "![](http://ecee.colorado.edu/~ecen4831/lectures/xor2.gif)\n",
        "<br /><sub>출처: http://ecee.colorado.edu/~ecen4831/lectures/NNet3.html</sub>\n",
        "\n",
        "- **다층 퍼셉트론**으로 해결\n",
        "  - 비선형 문제를 해결할 수 있다!\n",
        "\n",
        "- AND, NAND, OR Gate를 조합"
      ]
    },
    {
      "cell_type": "markdown",
      "metadata": {
        "id": "W7hNassAfhxK"
      },
      "source": [
        "## 다층 퍼셉트론(Multi Layer Perceptron, MLP)  \n",
        "\n",
        "![](https://upload.wikimedia.org/wikipedia/commons/c/c2/MultiLayerNeuralNetworkBigger_english.png)\n",
        "<br /><sub>출처: https://commons.wikimedia.org/wiki/File:MultiLayerNeuralNetworkBigger_english.png</sub>\n"
      ]
    },
    {
      "cell_type": "markdown",
      "metadata": {
        "id": "-N6uSU0-L4Oi"
      },
      "source": [
        "### 다층 퍼셉트론의 구성\n",
        "\n",
        "  - 입력층(input layer)\n",
        "  - 은닉층(hidden layer)\n",
        "    - 1개 이상 존재\n",
        "    - 보통 5개 이상 존재하면 Deep Neural Network라고 칭함\n",
        "  - 출력층(output layer)  \n",
        "\n",
        "![](https://www.researchgate.net/profile/Sandip_Lahiri/publication/26614896/figure/fig1/AS:310007494135809@1450922954279/A-schematic-diagram-of-artificial-neural-network-and-architecture-of-the-feed-forward.png)\n",
        "<br /><sub>출처: https://www.researchgate.net/figure/A-schematic-diagram-of-artificial-neural-network-and-architecture-of-the-feed-forward_fig1_26614896</sub>\n",
        "\n",
        "  - 수식 \n",
        "\n",
        "    - (input layer $\\rightarrow$ hidden layer)   \n",
        "  $ \\quad z = f_L(W_Lx + b_L) $  \n",
        "\n",
        "    - (hidden layer $\\rightarrow$ output layer)   \n",
        "  $ \\quad y = a_K(W_Kz + b_K) $  "
      ]
    },
    {
      "cell_type": "markdown",
      "metadata": {
        "id": "38mOWdHzfsO_"
      },
      "source": [
        "### XOR 게이트\n",
        "- 서로 다른 두 값이 입력으로 들어가면 1을 반환\n",
        "\n",
        "- 진리표  \n",
        "\n",
        "![](https://www.tutorialspoint.com/computer_logical_organization/images/xor_truthtable.jpg)\n",
        "<br /><sub>출처: https://www.tutorialspoint.com/computer_logical_organization/logic_gates.htm</sub>\n"
      ]
    },
    {
      "cell_type": "code",
      "metadata": {
        "id": "VULVZbxVfb_M"
      },
      "source": [
        "def XOR(x1,x2):\n",
        "  s1 = NAND(x1, x2)\n",
        "  s2 = OR(x1, x2)\n",
        "  y = AND(s1, s2)\n",
        "  return y\n",
        "  #NAND와 OR이라는 연산을 하고 그 위에 AND라는 층을 더 얹어서 XOR을 계산하는거임"
      ],
      "execution_count": 11,
      "outputs": []
    },
    {
      "cell_type": "code",
      "metadata": {
        "id": "KFcXlWJKfuLg",
        "colab": {
          "base_uri": "https://localhost:8080/"
        },
        "outputId": "737ee53b-3579-4c1f-a05e-209d90c82a53"
      },
      "source": [
        "print(XOR(0,0))\n",
        "print(XOR(0,1))\n",
        "print(XOR(1,0))\n",
        "print(XOR(1,1))"
      ],
      "execution_count": 12,
      "outputs": [
        {
          "output_type": "stream",
          "name": "stdout",
          "text": [
            "0\n",
            "1\n",
            "1\n",
            "0\n"
          ]
        }
      ]
    },
    {
      "cell_type": "markdown",
      "metadata": {
        "id": "FgdNIo5dfx2Y"
      },
      "source": [
        "## 활성화 함수(Activation Function)\n",
        "\n",
        "- 입력 신호의 총합을 출력 신호로 변환하는 함수\n",
        "- 활성화 함수에 따라 출력값이 결정\n",
        "- 단층, 다층 퍼셉트론 모두 사용\n",
        "- 대표적인 활성화 함수\n",
        "  - Sigmoid\n",
        "  - ReLU\n",
        "  - tanh \n",
        "  - Identity Function\n",
        "  - Softmax\n",
        "\n",
        "-  하나의 layer에서 다음 layer로 넘어갈 때는 항상 활성화 함수를 통과\n",
        "    \n",
        "- [참고] 여러가지 활성화 함수  \n",
        " https://en.wikipedia.org/wiki/Activation_function  \n",
        "\n",
        "\n",
        "\n"
      ]
    },
    {
      "cell_type": "markdown",
      "metadata": {
        "id": "sqLlBrSEf31I"
      },
      "source": [
        "### Step Function(계단 함수)\n",
        "\n",
        "### $\\quad y = \\begin{cases}\n",
        "0 \\quad (x < 0) \\\\\n",
        "1 \\quad (x \\ge 0)\n",
        "\\end{cases} $   \n",
        "\n",
        "![](https://www.intmath.com/laplace-transformation/svg/svgphp-unit-step-functions-definition-1a-s1.svg)\n",
        "<br /><sub>출처: https://www.intmath.com/laplace-transformation/1a-unit-step-functions-definition.php</sub>\n",
        "  \n",
        "\n"
      ]
    },
    {
      "cell_type": "code",
      "metadata": {
        "id": "hQS9fxpfIZLS"
      },
      "source": [
        "def step_function(x):\n",
        "  if x > 0:\n",
        "    return 1\n",
        "  else:\n",
        "    return 0"
      ],
      "execution_count": 13,
      "outputs": []
    },
    {
      "cell_type": "code",
      "metadata": {
        "id": "I9wJ-Ht1fvpi"
      },
      "source": [
        "def step_function_for_numpy(x): #넘파이 형태로 만들어 보면\n",
        "  y = x > 0 #조건을 하나 주면\n",
        "  return y.astype(np.int) #정수형태로 바궈서 넘파이 형태로 y에 돌려줌"
      ],
      "execution_count": 14,
      "outputs": []
    },
    {
      "cell_type": "code",
      "metadata": {
        "id": "3eYjdSmUf5zm",
        "colab": {
          "base_uri": "https://localhost:8080/"
        },
        "outputId": "7e494a39-2ada-4a19-c3f6-8e2f341fc26e"
      },
      "source": [
        "print(step_function(-3))\n",
        "print(step_function(5))\n",
        "\n",
        "a = np.array([5, 3, -4, 2.8])\n",
        "print(step_function_for_numpy(a))"
      ],
      "execution_count": 15,
      "outputs": [
        {
          "output_type": "stream",
          "name": "stdout",
          "text": [
            "0\n",
            "1\n",
            "[1 1 0 1]\n"
          ]
        }
      ]
    },
    {
      "cell_type": "markdown",
      "metadata": {
        "id": "5OKFVCMqf9uc"
      },
      "source": [
        "\n",
        "### Sigmoid Function(시그모이드 함수)\n",
        "- 이진분류(binary classification)에 주로 사용\n",
        "  - 마지막 출력층의 활성화 함수로 사용\n",
        "- 출력값이 0~1 의 값이며, 이는 **확률**로 표현 가능\n",
        "\n",
        "\n",
        "$\\quad y = \\frac{1}{1 + e^{-x}}$\n",
        "\n",
        "![](https://media.geeksforgeeks.org/wp-content/uploads/20190911181329/Screenshot-2019-09-11-18.05.46.png)\n",
        "<br /><sub>출처: https://www.geeksforgeeks.org/implement-sigmoid-function-using-numpy/</sub>\n",
        "\n"
      ]
    },
    {
      "cell_type": "code",
      "metadata": {
        "id": "9Q7Ywp-Pf7gC"
      },
      "source": [
        "def sigmoid(x):\n",
        "  return 1/(1+np.exp(-x)) #위의 산식 그대로의 표현임"
      ],
      "execution_count": 16,
      "outputs": []
    },
    {
      "cell_type": "code",
      "metadata": {
        "id": "6ZcSKcAYgB9d",
        "colab": {
          "base_uri": "https://localhost:8080/"
        },
        "outputId": "1bd0ccce-3897-43f0-faee-4604508d2240"
      },
      "source": [
        "print(sigmoid(3))\n",
        "print(sigmoid(-3))"
      ],
      "execution_count": 17,
      "outputs": [
        {
          "output_type": "stream",
          "name": "stdout",
          "text": [
            "0.9525741268224334\n",
            "0.04742587317756678\n"
          ]
        }
      ]
    },
    {
      "cell_type": "markdown",
      "metadata": {
        "id": "s1x6bb83gFWv"
      },
      "source": [
        "### 시그모이드 함수와 계단 함수 비교\n",
        "\n",
        "- 공통점\n",
        "  - 출력값이 0~1 내의 범위\n",
        "  - 입력값의 정도에 따라 출력값의 정도가 달라짐 \n",
        "    즉, 입력이 중요하면(입력값이 크면) 큰 값을 출력\n",
        "    \n",
        "- 차이점  \n",
        " 계단함수에 비해 시그모이드 함수는 \n",
        "  - 입력에 따라 출력이 연속적으로 변화\n",
        "  - 출력이 '매끄러움'  \n",
        "    이는 모든 점에서 **미분 가능**함을 의미\n"
      ]
    },
    {
      "cell_type": "code",
      "metadata": {
        "id": "67UOGQfJgDg8",
        "colab": {
          "base_uri": "https://localhost:8080/",
          "height": 262
        },
        "outputId": "ece3f120-0705-4f75-c4e1-7fab9dd393f8"
      },
      "source": [
        "plt.grid()\n",
        "x = np.arange(-5.0, 5.0, 0.01)\n",
        "y1 = sigmoid(x)\n",
        "y2 = step_function_for_numpy(x)\n",
        "plt.plot(x, y1, 'r-', x, y2, 'b--')\n",
        "plt.show()"
      ],
      "execution_count": 18,
      "outputs": [
        {
          "output_type": "display_data",
          "data": {
            "image/png": "[encoded data removed]",
            "text/plain": [
              "<Figure size 432x288 with 1 Axes>"
            ]
          },
          "metadata": {
            "needs_background": "light"
          }
        }
      ]
    },
    {
      "cell_type": "markdown",
      "metadata": {
        "id": "9q3FQagJgJDs"
      },
      "source": [
        "\n",
        "### ReLU(Rectified Linear Unit)\n",
        "\n",
        "- 가장 많이 쓰이는 함수 중 하나  \n",
        "  \n",
        "  ### $ y = \\begin{cases}\n",
        "0 \\quad (x \\le 0) \\\\\n",
        "x \\quad (x > 0)\n",
        "\\end{cases} $\n",
        "\n",
        "![](https://3qeqpr26caki16dnhd19sv6by6v-wpengine.netdna-ssl.com/wp-content/uploads/2018/10/Line-Plot-of-Rectified-Linear-Activation-for-Negative-and-Positive-Inputs.png)\n",
        "<br /><sub>출처: https://machinelearningmastery.com/rectified-linear-activation-function-for-deep-learning-neural-networks/</sub>\n"
      ]
    },
    {
      "cell_type": "code",
      "metadata": {
        "id": "2cEsh_FqgHUr"
      },
      "source": [
        "def ReLU(x):\n",
        "  if x > 0:\n",
        "    return x\n",
        "  else:\n",
        "    return 0"
      ],
      "execution_count": 19,
      "outputs": []
    },
    {
      "cell_type": "code",
      "metadata": {
        "id": "nYbYYssSgLyP",
        "colab": {
          "base_uri": "https://localhost:8080/"
        },
        "outputId": "bfa3dda8-4472-4588-9c9d-4779ffbe71da"
      },
      "source": [
        "print(ReLU(5))\n",
        "print(ReLU(-3))"
      ],
      "execution_count": 20,
      "outputs": [
        {
          "output_type": "stream",
          "name": "stdout",
          "text": [
            "5\n",
            "0\n"
          ]
        }
      ]
    },
    {
      "cell_type": "markdown",
      "metadata": {
        "id": "GWXjAqjngPi0"
      },
      "source": [
        "\n",
        "### 하이퍼볼릭탄젠트 함수(Hyperbolic tangent function, tanh)\n",
        "\n",
        " ### $ \\quad y = \\frac{e^x - e^{-x}}{e^x + e^{-x}}$\n",
        "\n",
        "![image.png](data:image/png;base64,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)\n",
        "<br /><sub>출처: https://namu.wiki/w/%EC%8C%8D%EA%B3%A1%EC%84%A0%20%ED%95%A8%EC%88%98</sub>\n",
        "\n"
      ]
    },
    {
      "cell_type": "code",
      "metadata": {
        "id": "iF3lGXSegNZJ"
      },
      "source": [
        "def tanh(x):\n",
        "  return (np.exp(x)-np.exp(-x)) / (np.exp(x) + np.exp(-x))"
      ],
      "execution_count": 21,
      "outputs": []
    },
    {
      "cell_type": "code",
      "metadata": {
        "id": "x6GCAu1DgSAw",
        "colab": {
          "base_uri": "https://localhost:8080/"
        },
        "outputId": "1e01a5b3-ed20-452d-e8e0-d4c8ee93dfef"
      },
      "source": [
        "print(tanh(3))\n",
        "print(tanh(-3))"
      ],
      "execution_count": 22,
      "outputs": [
        {
          "output_type": "stream",
          "name": "stdout",
          "text": [
            "0.9950547536867306\n",
            "-0.9950547536867306\n"
          ]
        }
      ]
    },
    {
      "cell_type": "markdown",
      "metadata": {
        "id": "i2bVEk3GgVDL"
      },
      "source": [
        "### Identity Function(항등 함수)\n",
        "- 회귀(Regression) 문제에서 주로 사용  \n",
        "  - 출력층의 활성화 함수로 활용\n",
        "\n",
        "- $y=x$\n",
        "\n",
        "- 입력값 그대로 출력하기 때문에 굳이 정의할 필요는 없지만  \n",
        "  신경망 중간 레이어 흐름과 통일하기 위해 사용\n",
        "\n",
        "![](https://math.info/image/394/identity_function.jpg)\n",
        "<br /><sub>출처: https://math.info/Algebra/Identity_Function/</sub>\n"
      ]
    },
    {
      "cell_type": "code",
      "metadata": {
        "id": "NC3M0oq_gTgY"
      },
      "source": [
        "def identify_function(x): #얘는 그냥 간단하다. 받은 그대로 값을 돌려주기 때문\n",
        "  return x"
      ],
      "execution_count": 23,
      "outputs": []
    },
    {
      "cell_type": "code",
      "metadata": {
        "id": "V50HKDVMgXgh",
        "colab": {
          "base_uri": "https://localhost:8080/"
        },
        "outputId": "ed5b8e75-dbb3-4a70-c006-dd4bd0a06432"
      },
      "source": [
        "print(identify_function(4))\n",
        "print(identify_function(-1))\n",
        "\n",
        "X = np.array([2, -3, 0.4])\n",
        "print(identify_function(X))"
      ],
      "execution_count": 24,
      "outputs": [
        {
          "output_type": "stream",
          "name": "stdout",
          "text": [
            "4\n",
            "-1\n",
            "[ 2.  -3.   0.4]\n"
          ]
        }
      ]
    },
    {
      "cell_type": "markdown",
      "metadata": {
        "id": "npL99RRugad-"
      },
      "source": [
        "### Softmax\n",
        "\n",
        "- 다중 클래스 분류에 사용(Multi Class Classification)\n",
        "- 입력값의 영향을 크게 받음  \n",
        "  입력값이 크면 출력값도 큼\n",
        "- 출력값을 확률에 대응가능\n",
        "- 출력값의 **총합은 1**\n",
        "--> 소프트맥스 함수를 거치면 아웃풋이 확률값으로 바뀜.\n",
        "- 수식  \n",
        " ### $ y_k = \\frac{exp(a_k)}{\\sum_{i=1}{exp(a_i)}}$\n",
        "\n",
        "![](https://miro.medium.com/max/1400/1*670CdxchunD-yAuUWdI7Bw.png)\n",
        "<br /><sub>출처: https://medium.com/data-science-bootcamp/understand-the-softmax-function-in-minutes-f3a59641e86d</sub>"
      ]
    },
    {
      "cell_type": "code",
      "metadata": {
        "id": "6Ku0ucpygYrE"
      },
      "source": [
        "def softmax(x):\n",
        "  exp_a = np.exp(a)\n",
        "  sum_exp_a = np.sum(exp_a)\n",
        "  y = exp_a / sum_exp_a\n",
        "  return y"
      ],
      "execution_count": 30,
      "outputs": []
    },
    {
      "cell_type": "code",
      "metadata": {
        "id": "HikF6Peigdew",
        "colab": {
          "base_uri": "https://localhost:8080/"
        },
        "outputId": "bdcac673-d75a-438b-80c7-1b366c87047a"
      },
      "source": [
        "a = np.array([0.3, 0.2, 4.0, -1.2])\n",
        "print(softmax(a))\n",
        "print(np.sum(softmax(a)))"
      ],
      "execution_count": 31,
      "outputs": [
        {
          "output_type": "stream",
          "name": "stdout",
          "text": [
            "[0.02348781 0.02125265 0.9500187  0.00524084]\n",
            "1.0\n"
          ]
        }
      ]
    },
    {
      "cell_type": "markdown",
      "metadata": {
        "id": "BYIgC71lghbo"
      },
      "source": [
        "#### 소프트맥스 함수 주의점\n",
        "- 오버플로우(overflow) 문제\n",
        "- 지수함수(exponential function)을 사용하기 때문에  \n",
        "  입력값이 너무 크면 무한대(inf)가 반환됨\n",
        "\n",
        "- 개선한 수식\n",
        " ## $y_k = \\frac{exp(a_k)}{\\sum_{i=1}{exp(a_i)}} = \\frac{Cexp(a_k)}{C\\sum_{i=1}{exp(a_i)}} \\\\\n",
        "  \\quad = \\frac{exp(a_k + logC)}{\\sum_{i=1}{exp(a_i + logC)}} \\\\\n",
        "  \\quad = \\frac{exp(a_k + C')}{\\sum_{i=1}{exp(a_i + C')}}\n",
        "  $"
      ]
    },
    {
      "cell_type": "code",
      "metadata": {
        "id": "tmuXmRY8gfWc",
        "colab": {
          "base_uri": "https://localhost:8080/"
        },
        "outputId": "8bcf5991-0c88-47d0-92d6-8425397a62bc"
      },
      "source": [
        "A = np.array([100000, 90000, 105000, 50000])\n",
        "print(softmax(A))\n",
        "#?? 강의에선 저정도 값을 넣으면 결과값이 nan이 떴는데? 그새에 좀 개선된듯;;"
      ],
      "execution_count": 33,
      "outputs": [
        {
          "output_type": "stream",
          "name": "stdout",
          "text": [
            "[0.02348781 0.02125265 0.9500187  0.00524084]\n"
          ]
        }
      ]
    },
    {
      "cell_type": "code",
      "metadata": {
        "id": "RJADjg8Zgjab"
      },
      "source": [
        "def softmax(a):\n",
        "  C = np.max(a) #-->약간 스케일링을 거친것이라고 보면 된다. \n",
        "  return (np.exp(a -C) / np.sum(np.exp(a-C)))"
      ],
      "execution_count": 35,
      "outputs": []
    },
    {
      "cell_type": "code",
      "metadata": {
        "id": "OQTWqn2fgk42",
        "colab": {
          "base_uri": "https://localhost:8080/"
        },
        "outputId": "e60669a4-0920-4a75-8142-df13c37b7139"
      },
      "source": [
        "A = np.array([100000, 90000, 105000, 50000])\n",
        "print(softmax(A))"
      ],
      "execution_count": 36,
      "outputs": [
        {
          "output_type": "stream",
          "name": "stdout",
          "text": [
            "[0. 0. 1. 0.]\n"
          ]
        }
      ]
    },
    {
      "cell_type": "markdown",
      "metadata": {
        "id": "-1cWHyPbgoaH"
      },
      "source": [
        "### 활성화 함수를 비선형 함수(non-linear function)로 사용하는 이유\n",
        "- 신경망을 깊게(deep) 하기 위함\n",
        "- 만약 활성화 함수를 선형함수(linear function)으로 하게 되면 은닉층의 갯수가 여러개이더라도 의미가 없어짐\n",
        "- 만약,$\\ h(x) = cx이고, 3개의 은닉층이 존재한다면 \n",
        "\\\\  \n",
        "y = h(h(h(x)))  \\\\\n",
        "\\ \\ = c*c*c*x \\\\\n",
        "\\ \\ = c^3x \\\\ $  \n",
        "이므로 결국에는 선형함수가 되어버림\n",
        "고로 활성화 함수는 선형함수를 쓰지 않는다. \n"
      ]
    },
    {
      "cell_type": "markdown",
      "metadata": {
        "id": "MD3C4UcVgrxk"
      },
      "source": [
        "### 그 외의 활성화 함수\n",
        "- LeakyReLU\n",
        "\n",
        "### $ \\ \\ f_a(x) = \\begin{cases}\n",
        "x \\quad (x \\ge 0) \\\\\n",
        "ax \\quad (x < 0)\n",
        "\\end{cases}$ \n",
        "\n",
        "![](https://i0.wp.com/knowhowspot.com/wp-content/uploads/2019/04/IMG_20190406_220045-1.jpg)\n",
        "<br /><sub>출처: https://knowhowspot.com/technology/ai-and-machine-learning/artificial-neural-network-activation-function/</sub>"
      ]
    },
    {
      "cell_type": "code",
      "metadata": {
        "id": "BigOia-QgmcF"
      },
      "source": [
        "def LeakyReLU(x):\n",
        "  a = 0.01\n",
        "  return np.maximum(a*x, x)"
      ],
      "execution_count": 37,
      "outputs": []
    },
    {
      "cell_type": "code",
      "metadata": {
        "id": "LY2YbDJ0g1Aw",
        "colab": {
          "base_uri": "https://localhost:8080/"
        },
        "outputId": "6ebcfee4-7c6d-4c23-c130-20f3a27fcb3e"
      },
      "source": [
        "x = np.array([0.5, -1.4, 3, 0, 5])\n",
        "print(LeakyReLU(x))"
      ],
      "execution_count": 40,
      "outputs": [
        {
          "output_type": "stream",
          "name": "stdout",
          "text": [
            "[ 0.5   -0.014  3.     0.     5.   ]\n"
          ]
        }
      ]
    },
    {
      "cell_type": "markdown",
      "metadata": {
        "id": "RDh7qyImg4me"
      },
      "source": [
        "- ELU(Exponential Linear Units)  \n",
        "--> 그래프에서 꺽이는 선을 보면 약간 부드럽게 굴곡을 줬음. \n",
        "\n",
        "\n",
        "  $ f(\\alpha, x) = \\begin{cases}\n",
        "\\alpha \\ (e^x - 1) \\quad (x \\le 0) \\\\\n",
        "x \\qquad \\qquad (x > 0)\n",
        "\\end{cases}$  \n",
        "\n",
        "![](https://www.researchgate.net/publication/331794632/figure/fig1/AS:736888264609792@1552699261431/Exponential-Linear-Unit-activation-function-input-output-mapping-The-activation-function.jpg)\n",
        "<br /><sub>출처: https://www.researchgate.net/figure/Exponential-Linear-Unit-activation-function-input-output-mapping-The-activation-function_fig1_331794632</sub>"
      ]
    },
    {
      "cell_type": "code",
      "metadata": {
        "id": "1nImmUf9g2lV"
      },
      "source": [
        "def ELU(x):\n",
        "  alpha = 1.0\n",
        "  return (x>=0) * x + (x <0) *(np.exp(x)-1)"
      ],
      "execution_count": 42,
      "outputs": []
    },
    {
      "cell_type": "code",
      "metadata": {
        "id": "1kZVCKTxg_RX",
        "colab": {
          "base_uri": "https://localhost:8080/"
        },
        "outputId": "73723f83-d9f7-4e34-f1e4-39d0a1fdd1ee"
      },
      "source": [
        "print(ELU(4))\n",
        "print(ELU(-0.5))\n",
        "\n",
        "x = np.array([-2, 0.1, 4])\n",
        "print(ELU(x))"
      ],
      "execution_count": 43,
      "outputs": [
        {
          "output_type": "stream",
          "name": "stdout",
          "text": [
            "4.0\n",
            "-0.3934693402873666\n",
            "[-0.86466472  0.1         4.        ]\n"
          ]
        }
      ]
    },
    {
      "cell_type": "markdown",
      "metadata": {
        "id": "ir3K7hhLhCf2"
      },
      "source": [
        "### 활성화 함수 참고\n",
        "\n",
        "- 일반적인 사용 순서\n",
        "  1. ELU\n",
        "  2. LeakyReLU\n",
        "  3. ReLU\n",
        "  4. tanh \n",
        "  5. sigmoid 순으로 사용\n",
        "\n",
        "- 스탠포드 강의에서 언급한 사용 순서\n",
        "  1. ReLU\n",
        "  2. ReLU Family(LeakyReLU, ELU)\n",
        "  3. sigmoid는 사용 X  \n",
        "  "
      ]
    },
    {
      "cell_type": "markdown",
      "metadata": {
        "id": "UT27FzpXhJTF"
      },
      "source": [
        "## 3층 신경망 구현하기\n",
        "\n",
        "![](http://ufldl.stanford.edu/tutorial/images/Network3322.png)\n",
        "<br /><sub>출처: http://deeplearning.stanford.edu/tutorial/supervised/MultiLayerNeuralNetworks/</sub>\n",
        "\n",
        "\n",
        "- 2클래스 분류\n",
        "- 입력층(Input Layer)\n",
        "  - 뉴런수: 3\n",
        "\n",
        "- 은닉층(Hidden Layers)\n",
        "  - 첫번째 은닉층\n",
        "    - 뉴런수: 3\n",
        "  - 두번째 은닉층\n",
        "    - 뉴런수: 2\n",
        "- 출력층(Output Layer)\n",
        "  - 뉴런수: 2  \n"
      ]
    },
    {
      "cell_type": "markdown",
      "metadata": {
        "id": "B2uxTBC3hQVh"
      },
      "source": [
        "### 활성화 함수 정의"
      ]
    },
    {
      "cell_type": "code",
      "metadata": {
        "id": "JNygpfXRhS4q"
      },
      "source": [
        "def sigmoid(X):\n",
        "  return 1/ (1 + np.exp(-X))"
      ],
      "execution_count": 24,
      "outputs": []
    },
    {
      "cell_type": "markdown",
      "metadata": {
        "id": "GgjFPw3DhUbO"
      },
      "source": [
        "### 레이어 정의"
      ]
    },
    {
      "cell_type": "code",
      "metadata": {
        "id": "8iEkt97EhPux",
        "colab": {
          "base_uri": "https://localhost:8080/"
        },
        "outputId": "a037c21b-e4bf-4c68-fcbf-8bd85a9d3d78"
      },
      "source": [
        "#첫번째 레이어 3X3짜리\n",
        "X = np.array([1.0, 0.5, 0.4])\n",
        "W1 = np.array([[0.1, 0.3, 0.5], [0.2, 0.4, 0.6], [0.3, 0.5, 0.7]]) #가중치\n",
        "B1 = np.array([1, 1, 1])\n",
        "\n",
        "print(W1.shape)\n",
        "print(X.shape)\n",
        "print(B1.shape)\n",
        "\n",
        "A1 = np.dot(X, W1) + B1\n",
        "Z1 = sigmoid(A1)\n",
        "\n",
        "print(A1)\n",
        "print(Z1)"
      ],
      "execution_count": 49,
      "outputs": [
        {
          "output_type": "stream",
          "name": "stdout",
          "text": [
            "(3, 3)\n",
            "(3,)\n",
            "(3,)\n",
            "[1.32 1.7  2.08]\n",
            "[0.78918171 0.84553473 0.88894403]\n"
          ]
        }
      ]
    },
    {
      "cell_type": "code",
      "metadata": {
        "id": "7gW4luZ3hVqk",
        "colab": {
          "base_uri": "https://localhost:8080/"
        },
        "outputId": "ef5f704c-d6cd-4b9b-cb98-a3524d7a4d1f"
      },
      "source": [
        "#두번째 레이어 3X3짜리\n",
        "W2 = np.array([[0.2, 0.4, 0.6], [0.1, 0.3, 0.5], [0.4, 0.6, 0.8]]) #가중치\n",
        "B2 = np.array([1, 1, 1])\n",
        "\n",
        "print(W2.shape)\n",
        "print(B2.shape)\n",
        "\n",
        "A2 = np.dot(A1, W2) + B2\n",
        "Z2 = sigmoid(A2)\n",
        "\n",
        "print(A2)\n",
        "print(Z2)"
      ],
      "execution_count": 50,
      "outputs": [
        {
          "output_type": "stream",
          "name": "stdout",
          "text": [
            "(3, 3)\n",
            "(3,)\n",
            "[2.266 3.286 4.306]\n",
            "[0.90602176 0.96394539 0.9866921 ]\n"
          ]
        }
      ]
    },
    {
      "cell_type": "code",
      "metadata": {
        "id": "b7cgikzahYYj",
        "colab": {
          "base_uri": "https://localhost:8080/"
        },
        "outputId": "51206d65-4ba6-4d8c-9392-cbe243287c76"
      },
      "source": [
        "#세번째 레이어 3x2짜리\n",
        "W3 = np.array([[0.1, 0.3], [-0.1, -0.5], [0.3, 0.5]]) #가중치\n",
        "B3 = np.array([1, 1])\n",
        "\n",
        "print(W3.shape)\n",
        "print(B3.shape)\n",
        "\n",
        "A3 = np.dot(A2, W3) + B3\n",
        "Z3 = sigmoid(A3)\n",
        "\n",
        "print(A3)\n",
        "print(Z3)"
      ],
      "execution_count": 52,
      "outputs": [
        {
          "output_type": "stream",
          "name": "stdout",
          "text": [
            "(3, 2)\n",
            "(2,)\n",
            "[2.1898 2.1898]\n",
            "[0.8993298 0.8993298]\n"
          ]
        }
      ]
    },
    {
      "cell_type": "code",
      "metadata": {
        "id": "NhGH6HgvhZ7r",
        "colab": {
          "base_uri": "https://localhost:8080/"
        },
        "outputId": "c9d45531-00d1-4296-8f22-3c58b21bd3eb"
      },
      "source": [
        "#4번째 레이어\n",
        "W4 = np.array([[0.1, 0.2], [0.3, 0.5]]) #가중치\n",
        "B4 = np.array([1, 1])\n",
        "\n",
        "print(W4.shape)\n",
        "print(B4.shape)\n",
        "\n",
        "A4 = np.dot(A3, W4) + B4\n",
        "Y = sigmoid(A4)\n",
        "\n",
        "print(A4)\n",
        "print(Y)"
      ],
      "execution_count": 53,
      "outputs": [
        {
          "output_type": "stream",
          "name": "stdout",
          "text": [
            "(2, 2)\n",
            "(2,)\n",
            "[1.87592 2.53286]\n",
            "[0.86714179 0.92641356]\n"
          ]
        }
      ]
    },
    {
      "cell_type": "code",
      "metadata": {
        "id": "NpTPdvrbhbja"
      },
      "source": [
        "# 정리를 해보자. 하나로 합쳐서 만들기 \n",
        "\n",
        "def network():\n",
        "\n",
        "  network = {}\n",
        "\n",
        "   #첫번째 레이어\n",
        "  network['W1'] = np.array([[0.1, 0.3, 0.5], [0.2, 0.4, 0.6], [0.3, 0.5, 0.7]])\n",
        "  network['B1'] = np.array([1, 1, 1])\n",
        "\n",
        "  # 두번째 레이어\n",
        "  network['W2'] = np.array([[0.2, 0.4, 0.6], [0.1, 0.3, 0.5], [0.4, 0.6, 0.8]])\n",
        "  network['B2'] = np.array([1, 1, 1])\n",
        "  \n",
        "  # 세번째 레이어\n",
        "  network['W3'] = np.array([[0.1, 0.3], [-0.1, -0.5], [0.3, 0.5]])\n",
        "  network['B3'] = np.array([1, 1])\n",
        "  \n",
        "  # 네번째 레이어\n",
        "  network['W4'] = np.array([[0.1, 0.2], [0.3, 0.5]])\n",
        "  network['B4'] = np.array([1, 1])\n",
        "\n",
        "  return network\n"
      ],
      "execution_count": 64,
      "outputs": []
    },
    {
      "cell_type": "code",
      "metadata": {
        "id": "xd2lyMzhwf7Y"
      },
      "source": [
        "def forward(network, x): #전체 신경만 구조임\n",
        "  W1, W2, W3, W4 = network['W1'],network['W2'],network['W3'],network['W4']\n",
        "  B1, B2, B3, B4 = network['B1'],network['B2'],network['B3'],network['B4']\n",
        "\n",
        "  A1 = np.dot(x, W1) + B1\n",
        "  Z1 = sigmoid(A1)\n",
        "\n",
        "  A2 = np.dot(Z1, W2) + B2\n",
        "  Z2 = sigmoid(A2)\n",
        "\n",
        "  A3 = np.dot(Z2, W3) + B3\n",
        "  Z3 = sigmoid(A3)\n",
        "\n",
        "  A4 = np.dot(Z3, W4) + B4\n",
        "  y = sigmoid(A4)\n",
        "\n",
        "  return y"
      ],
      "execution_count": 65,
      "outputs": []
    },
    {
      "cell_type": "markdown",
      "metadata": {
        "id": "z_oQoRFYhf-4"
      },
      "source": [
        "### 신경망 추론 실행"
      ]
    },
    {
      "cell_type": "code",
      "metadata": {
        "id": "FFwxQXrShc-1",
        "colab": {
          "base_uri": "https://localhost:8080/"
        },
        "outputId": "ea12e043-d5ef-4dbb-a391-4a3f7f2cf92a"
      },
      "source": [
        "net = network()\n",
        "x = np.array([0.3, 1.3, -2.2])\n",
        "y = forward(net, x)\n",
        "print(y)"
      ],
      "execution_count": 66,
      "outputs": [
        {
          "output_type": "stream",
          "name": "stdout",
          "text": [
            "[0.78781193 0.82428264]\n"
          ]
        }
      ]
    }
  ]
}